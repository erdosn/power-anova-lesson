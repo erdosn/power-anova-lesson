{
 "cells": [
  {
   "cell_type": "markdown",
   "metadata": {},
   "source": [
    "# Questions\n",
    "\n",
    "# Objectives\n",
    "YWBAT\n",
    "- define what the anova test is testing for\n",
    "- complete an anova test in python\n",
    "- calculate power in python\n",
    "- how power analysis is related to ttests"
   ]
  },
  {
   "cell_type": "code",
   "execution_count": 19,
   "metadata": {},
   "outputs": [],
   "source": [
    "import numpy as np\n",
    "import pandas as pd\n",
    "\n",
    "from sklearn.datasets import load_iris\n",
    "import scipy.stats as scs\n",
    "import statsmodels.api as sm\n",
    "import statsmodels.stats as stats\n",
    "\n",
    "import matplotlib.pyplot as plt"
   ]
  },
  {
   "cell_type": "code",
   "execution_count": 5,
   "metadata": {},
   "outputs": [],
   "source": [
    "iris = load_iris()\n",
    "data = iris.data\n",
    "target = iris.target\n",
    "features = iris.feature_names\n",
    "target_names = iris.target_names"
   ]
  },
  {
   "cell_type": "code",
   "execution_count": 7,
   "metadata": {},
   "outputs": [
    {
     "data": {
      "text/html": [
       "<div>\n",
       "<style scoped>\n",
       "    .dataframe tbody tr th:only-of-type {\n",
       "        vertical-align: middle;\n",
       "    }\n",
       "\n",
       "    .dataframe tbody tr th {\n",
       "        vertical-align: top;\n",
       "    }\n",
       "\n",
       "    .dataframe thead th {\n",
       "        text-align: right;\n",
       "    }\n",
       "</style>\n",
       "<table border=\"1\" class=\"dataframe\">\n",
       "  <thead>\n",
       "    <tr style=\"text-align: right;\">\n",
       "      <th></th>\n",
       "      <th>sepal length (cm)</th>\n",
       "      <th>sepal width (cm)</th>\n",
       "      <th>petal length (cm)</th>\n",
       "      <th>petal width (cm)</th>\n",
       "      <th>target</th>\n",
       "      <th>target_names</th>\n",
       "    </tr>\n",
       "  </thead>\n",
       "  <tbody>\n",
       "    <tr>\n",
       "      <td>0</td>\n",
       "      <td>5.1</td>\n",
       "      <td>3.5</td>\n",
       "      <td>1.4</td>\n",
       "      <td>0.2</td>\n",
       "      <td>0</td>\n",
       "      <td>setosa</td>\n",
       "    </tr>\n",
       "    <tr>\n",
       "      <td>1</td>\n",
       "      <td>4.9</td>\n",
       "      <td>3.0</td>\n",
       "      <td>1.4</td>\n",
       "      <td>0.2</td>\n",
       "      <td>0</td>\n",
       "      <td>setosa</td>\n",
       "    </tr>\n",
       "    <tr>\n",
       "      <td>2</td>\n",
       "      <td>4.7</td>\n",
       "      <td>3.2</td>\n",
       "      <td>1.3</td>\n",
       "      <td>0.2</td>\n",
       "      <td>0</td>\n",
       "      <td>setosa</td>\n",
       "    </tr>\n",
       "    <tr>\n",
       "      <td>3</td>\n",
       "      <td>4.6</td>\n",
       "      <td>3.1</td>\n",
       "      <td>1.5</td>\n",
       "      <td>0.2</td>\n",
       "      <td>0</td>\n",
       "      <td>setosa</td>\n",
       "    </tr>\n",
       "    <tr>\n",
       "      <td>4</td>\n",
       "      <td>5.0</td>\n",
       "      <td>3.6</td>\n",
       "      <td>1.4</td>\n",
       "      <td>0.2</td>\n",
       "      <td>0</td>\n",
       "      <td>setosa</td>\n",
       "    </tr>\n",
       "  </tbody>\n",
       "</table>\n",
       "</div>"
      ],
      "text/plain": [
       "   sepal length (cm)  sepal width (cm)  petal length (cm)  petal width (cm)  \\\n",
       "0                5.1               3.5                1.4               0.2   \n",
       "1                4.9               3.0                1.4               0.2   \n",
       "2                4.7               3.2                1.3               0.2   \n",
       "3                4.6               3.1                1.5               0.2   \n",
       "4                5.0               3.6                1.4               0.2   \n",
       "\n",
       "   target target_names  \n",
       "0       0       setosa  \n",
       "1       0       setosa  \n",
       "2       0       setosa  \n",
       "3       0       setosa  \n",
       "4       0       setosa  "
      ]
     },
     "execution_count": 7,
     "metadata": {},
     "output_type": "execute_result"
    }
   ],
   "source": [
    "df = pd.DataFrame(data, columns=features)\n",
    "df['target'] = target\n",
    "df['target_names'] = df['target'].apply(lambda x: target_names[x])\n",
    "df.head()"
   ]
  },
  {
   "cell_type": "markdown",
   "metadata": {},
   "source": [
    "# When would I use an Anova test?\n",
    "- when we need to check different variance of the data. \n",
    "- when we want to compare multiple variances to one variable\n",
    "- Anova is used for multiple groups (2 or more groups)"
   ]
  },
  {
   "cell_type": "markdown",
   "metadata": {},
   "source": [
    "# What does ANOVA test for?\n",
    "### H0: mu1 = mu2 = ... = mu_n, for all groups\n",
    "\n",
    "### HA: mu_i $\\neq$ mu_j,  for i!=j"
   ]
  },
  {
   "cell_type": "markdown",
   "metadata": {},
   "source": [
    "# So how do we set this up in Python? \n",
    "\n",
    "# Let's test the mean of sepal length of all three groups using ANOVA (F_oneway)"
   ]
  },
  {
   "cell_type": "code",
   "execution_count": 14,
   "metadata": {},
   "outputs": [],
   "source": [
    "sl_setosa = df.loc[df['target_names']=='setosa', ['sepal length (cm)']].values\n",
    "sl_versicolor = df.loc[df['target_names']=='versicolor', ['sepal length (cm)']].values\n",
    "sl_virginica = df.loc[df['target_names']=='virginica', ['sepal length (cm)']].values"
   ]
  },
  {
   "cell_type": "code",
   "execution_count": 16,
   "metadata": {},
   "outputs": [
    {
     "data": {
      "text/plain": [
       "Text(0.5,1,'Sepal Length Distribution by Type')"
      ]
     },
     "execution_count": 16,
     "metadata": {},
     "output_type": "execute_result"
    },
    {
     "data": {
      "image/png": "[encoded data removed]",
      "text/plain": [
       "<Figure size 576x360 with 1 Axes>"
      ]
     },
     "metadata": {
      "needs_background": "light"
     },
     "output_type": "display_data"
    }
   ],
   "source": [
    "# We should always visualize our data\n",
    "plt.figure(figsize=(8, 5))\n",
    "plt.hist(sl_setosa, color='g', alpha=0.5, label='setosa')\n",
    "plt.hist(sl_versicolor, color='purple', alpha=0.5, label='versicolor')\n",
    "plt.hist(sl_virginica, color='teal', alpha=0.5, label='virginica')\n",
    "plt.legend()\n",
    "plt.xlabel(\"Sepal Length\")\n",
    "plt.ylabel(\"Counts\")\n",
    "plt.title(\"Sepal Length Distribution by Type\")"
   ]
  },
  {
   "cell_type": "code",
   "execution_count": 18,
   "metadata": {},
   "outputs": [
    {
     "data": {
      "text/plain": [
       "F_onewayResult(statistic=array([119.26450218]), pvalue=array([1.66966919e-31]))"
      ]
     },
     "execution_count": 18,
     "metadata": {},
     "output_type": "execute_result"
    }
   ],
   "source": [
    "# H0: mu1 = mu2 = mu3\n",
    "# HA: mui != muj\n",
    "\n",
    "scs.f_oneway(sl_setosa, sl_versicolor, sl_virginica)\n",
    "\n",
    "# p = 0.0 -> reject H0"
   ]
  },
  {
   "cell_type": "markdown",
   "metadata": {},
   "source": [
    "# Unfortunately, Anova doesn't tell us which group is different, how can we see the different group?\n",
    "\n",
    "- So let's run a **tukey test** to see group by group comparisons"
   ]
  },
  {
   "cell_type": "code",
   "execution_count": 26,
   "metadata": {},
   "outputs": [],
   "source": [
    "mc = stats.multicomp.MultiComparison(df['sepal length (cm)'], df['target_names'])"
   ]
  },
  {
   "cell_type": "code",
   "execution_count": 27,
   "metadata": {},
   "outputs": [],
   "source": [
    "results = mc.tukeyhsd()"
   ]
  },
  {
   "cell_type": "code",
   "execution_count": 28,
   "metadata": {},
   "outputs": [
    {
     "name": "stdout",
     "output_type": "stream",
     "text": [
      "   Multiple Comparison of Means - Tukey HSD, FWER=0.05   \n",
      "=========================================================\n",
      "  group1     group2   meandiff p-adj lower  upper  reject\n",
      "---------------------------------------------------------\n",
      "    setosa versicolor     0.93 0.001 0.6862 1.1738   True\n",
      "    setosa  virginica    1.582 0.001 1.3382 1.8258   True\n",
      "versicolor  virginica    0.652 0.001 0.4082 0.8958   True\n",
      "---------------------------------------------------------\n"
     ]
    }
   ],
   "source": [
    "print(results)"
   ]
  },
  {
   "cell_type": "markdown",
   "metadata": {},
   "source": [
    "# Okay, so our groups are different..that's great, but how different? "
   ]
  },
  {
   "cell_type": "markdown",
   "metadata": {},
   "source": [
    "# What is power?\n",
    "* power = 1 - $\\beta$, where $\\beta$ is the probablity we make a type II error\n",
    "* if we have a high chance of making a type II error, beta is really big\n",
    "    * if beta = 0.8 -> power = 0.2\n",
    "* power low -> bad\n",
    "* power high -> good\n",
    "\n",
    "* cohen's d is directly proportional to power"
   ]
  },
  {
   "cell_type": "markdown",
   "metadata": {},
   "source": [
    "let's do some power analysis"
   ]
  },
  {
   "cell_type": "code",
   "execution_count": 31,
   "metadata": {},
   "outputs": [],
   "source": [
    "# the first step to calculating power is first\n",
    "\n",
    "# choose our 2 groups\n",
    "sl_setosa = sl_setosa.flatten()\n",
    "sl_versicolor = sl_versicolor.flatten()"
   ]
  },
  {
   "cell_type": "code",
   "execution_count": 34,
   "metadata": {},
   "outputs": [],
   "source": [
    "# we need to calculate cohens d \n",
    "# find it on stack overflow\n",
    "def cohen_d(x,y):\n",
    "    nx = len(x)\n",
    "    ny = len(y)\n",
    "    dof = nx + ny - 2\n",
    "    return (np.mean(x) - np.mean(y)) / np.sqrt(((nx-1)*np.std(x, ddof=1) ** 2 + (ny-1)*np.std(y, ddof=1) ** 2) / dof)"
   ]
  },
  {
   "cell_type": "code",
   "execution_count": 37,
   "metadata": {},
   "outputs": [
    {
     "data": {
      "text/plain": [
       "2.104197253509822"
      ]
     },
     "execution_count": 37,
     "metadata": {},
     "output_type": "execute_result"
    }
   ],
   "source": [
    "effect_size = cohen_d(sl_versicolor, sl_setosa)\n",
    "effect_size"
   ]
  },
  {
   "cell_type": "code",
   "execution_count": 32,
   "metadata": {},
   "outputs": [],
   "source": [
    "pa = stats.power.TTestIndPower()"
   ]
  },
  {
   "cell_type": "code",
   "execution_count": 38,
   "metadata": {},
   "outputs": [
    {
     "data": {
      "text/plain": [
       "1.0"
      ]
     },
     "execution_count": 38,
     "metadata": {},
     "output_type": "execute_result"
    }
   ],
   "source": [
    "pa.solve_power(effect_size=effect_size, nobs1=50, alpha=0.5)"
   ]
  },
  {
   "cell_type": "code",
   "execution_count": 40,
   "metadata": {},
   "outputs": [
    {
     "data": {
      "text/plain": [
       "Text(0.5,1,'Sepal Length Distribution by Type')"
      ]
     },
     "execution_count": 40,
     "metadata": {},
     "output_type": "execute_result"
    },
    {
     "data": {
      "image/png": "[encoded data removed]",
      "text/plain": [
       "<Figure size 576x360 with 1 Axes>"
      ]
     },
     "metadata": {
      "needs_background": "light"
     },
     "output_type": "display_data"
    }
   ],
   "source": [
    "plt.figure(figsize=(8, 5))\n",
    "plt.hist(sl_setosa, color='g', alpha=0.5, label='setosa', bins=25)\n",
    "plt.hist(sl_versicolor, color='purple', alpha=0.5, label='versicolor', bins=25)\n",
    "plt.legend()\n",
    "plt.xlabel(\"Sepal Length\")\n",
    "plt.ylabel(\"Counts\")\n",
    "plt.title(\"Sepal Length Distribution by Type\")"
   ]
  },
  {
   "cell_type": "markdown",
   "metadata": {},
   "source": [
    "# How to conduct power analysis\n",
    "- import all necessary libraries\n",
    "- choose your two groups\n",
    "- calcualte cohens d between your two groups\n",
    "- pass in your effect size, nobs1 and alpha into ttestindpower\n",
    "- done"
   ]
  },
  {
   "cell_type": "markdown",
   "metadata": {},
   "source": [
    "# let's go through an example from start to finish"
   ]
  },
  {
   "cell_type": "markdown",
   "metadata": {},
   "source": [
    "Q1: is petal width a good predictor for iris type (versicolor, virginica)? "
   ]
  },
  {
   "cell_type": "code",
   "execution_count": 42,
   "metadata": {},
   "outputs": [],
   "source": [
    "pw_versicolor = df.loc[df['target_names']=='versicolor', ['petal width (cm)']].values.flatten()\n",
    "pw_virginica = df.loc[df['target_names']=='virginica', ['petal width (cm)']].values.flatten()"
   ]
  },
  {
   "cell_type": "code",
   "execution_count": 43,
   "metadata": {},
   "outputs": [],
   "source": [
    "# first test if the means are different?\n",
    "# i can conduct an indepdent ttest"
   ]
  },
  {
   "cell_type": "code",
   "execution_count": 52,
   "metadata": {},
   "outputs": [],
   "source": [
    "# first check assumptions\n",
    "# check for normal distributions -> shapiro\n",
    "\n",
    "scs.shapiro(pw_versicolor), scs.shapiro(pw_virginica)\n",
    "\n",
    "# since one of them isn't normal we must resample the means\n",
    "\n",
    "pw_vers_sample_means = []\n",
    "pw_virg_sample_means = []\n",
    "\n",
    "for i in range(30):\n",
    "    samp1 = np.random.choice(pw_versicolor, 50)\n",
    "    samp2 = np.random.choice(pw_virginica, 50)\n",
    "    pw_vers_sample_means.append(samp1.mean())\n",
    "    pw_virg_sample_means.append(samp2.mean())"
   ]
  },
  {
   "cell_type": "code",
   "execution_count": 53,
   "metadata": {},
   "outputs": [
    {
     "data": {
      "text/plain": [
       "((0.9768537282943726, 0.7371708154678345),\n",
       " (0.9765429496765137, 0.7280974984169006))"
      ]
     },
     "execution_count": 53,
     "metadata": {},
     "output_type": "execute_result"
    }
   ],
   "source": [
    "scs.shapiro(pw_vers_sample_means), scs.shapiro(pw_virg_sample_means)"
   ]
  },
  {
   "cell_type": "code",
   "execution_count": 56,
   "metadata": {},
   "outputs": [
    {
     "data": {
      "text/plain": [
       "Ttest_indResult(statistic=-76.86452270014743, pvalue=1.0450788020596916e-58)"
      ]
     },
     "execution_count": 56,
     "metadata": {},
     "output_type": "execute_result"
    }
   ],
   "source": [
    "# yay! they're normal! \n",
    "\n",
    "# H0: mu1 = mu2\n",
    "# HA: mu1 != mu2\n",
    "\n",
    "scs.ttest_ind(pw_vers_sample_means, pw_virg_sample_means, equal_var=False)"
   ]
  },
  {
   "cell_type": "code",
   "execution_count": 57,
   "metadata": {},
   "outputs": [
    {
     "data": {
      "text/plain": [
       "(array([1., 0., 1., 3., 7., 5., 4., 6., 2., 1.]),\n",
       " array([1.916 , 1.9344, 1.9528, 1.9712, 1.9896, 2.008 , 2.0264, 2.0448,\n",
       "        2.0632, 2.0816, 2.1   ]),\n",
       " <a list of 10 Patch objects>)"
      ]
     },
     "execution_count": 57,
     "metadata": {},
     "output_type": "execute_result"
    },
    {
     "data": {
      "image/png": "[encoded data removed]",
      "text/plain": [
       "<Figure size 432x288 with 1 Axes>"
      ]
     },
     "metadata": {
      "needs_background": "light"
     },
     "output_type": "display_data"
    }
   ],
   "source": [
    "plt.hist(pw_vers_sample_means)\n",
    "plt.hist(pw_virg_sample_means)"
   ]
  },
  {
   "cell_type": "code",
   "execution_count": 59,
   "metadata": {},
   "outputs": [
    {
     "data": {
      "text/plain": [
       "19.84633442212353"
      ]
     },
     "execution_count": 59,
     "metadata": {},
     "output_type": "execute_result"
    }
   ],
   "source": [
    "# Now conduct power analysis\n",
    "effect_size = cohen_d(pw_virg_sample_means, pw_vers_sample_means)\n",
    "effect_size"
   ]
  },
  {
   "cell_type": "code",
   "execution_count": null,
   "metadata": {},
   "outputs": [],
   "source": []
  },
  {
   "cell_type": "code",
   "execution_count": 62,
   "metadata": {},
   "outputs": [
    {
     "data": {
      "text/plain": [
       "1.0"
      ]
     },
     "execution_count": 62,
     "metadata": {},
     "output_type": "execute_result"
    }
   ],
   "source": [
    "power = pa.solve_power(effect_size=effect_size, nobs1=30, alpha=0.5)\n",
    "power"
   ]
  },
  {
   "cell_type": "markdown",
   "metadata": {},
   "source": [
    "# In conclusion we can with almost 100% certainty differentiate veriscolor and virginicas by their petal width."
   ]
  },
  {
   "cell_type": "markdown",
   "metadata": {},
   "source": [
    "# what did you learn today?\n",
    "* learned that anova is for more than 2 comparisons\n",
    "* how to calculate cohen's d and how to interpret 2 different distributions\n",
    "* Steps to work through when evaluating data against the null hypothesis\n",
    "* cohens's d and it's relationship to power"
   ]
  },
  {
   "cell_type": "code",
   "execution_count": null,
   "metadata": {},
   "outputs": [],
   "source": []
  }
 ],
 "metadata": {
  "kernelspec": {
   "display_name": "Python [conda env:flatiron-env] *",
   "language": "python",
   "name": "conda-env-flatiron-env-py"
  },
  "language_info": {
   "codemirror_mode": {
    "name": "ipython",
    "version": 3
   },
   "file_extension": ".py",
   "mimetype": "text/x-python",
   "name": "python",
   "nbconvert_exporter": "python",
   "pygments_lexer": "ipython3",
   "version": "3.6.0"
  }
 },
 "nbformat": 4,
 "nbformat_minor": 2
}
